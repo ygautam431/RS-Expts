{
 "cells": [
  {
   "cell_type": "code",
   "execution_count": 65,
   "id": "8d0d691b",
   "metadata": {},
   "outputs": [],
   "source": [
    "import pandas as pd\n",
    "import numpy as np"
   ]
  },
  {
   "cell_type": "code",
   "execution_count": 66,
   "id": "8b00ae77",
   "metadata": {},
   "outputs": [],
   "source": [
    "data = pd.read_csv(\"netflix_titles.csv\")"
   ]
  },
  {
   "cell_type": "code",
   "execution_count": 3,
   "id": "0565c49c",
   "metadata": {},
   "outputs": [
    {
     "data": {
      "text/plain": [
       "(8807, 12)"
      ]
     },
     "execution_count": 3,
     "metadata": {},
     "output_type": "execute_result"
    }
   ],
   "source": [
    "data.shape"
   ]
  },
  {
   "cell_type": "code",
   "execution_count": 4,
   "id": "4c7a7d9c",
   "metadata": {
    "scrolled": true
   },
   "outputs": [
    {
     "data": {
      "text/html": [
       "<div>\n",
       "<style scoped>\n",
       "    .dataframe tbody tr th:only-of-type {\n",
       "        vertical-align: middle;\n",
       "    }\n",
       "\n",
       "    .dataframe tbody tr th {\n",
       "        vertical-align: top;\n",
       "    }\n",
       "\n",
       "    .dataframe thead th {\n",
       "        text-align: right;\n",
       "    }\n",
       "</style>\n",
       "<table border=\"1\" class=\"dataframe\">\n",
       "  <thead>\n",
       "    <tr style=\"text-align: right;\">\n",
       "      <th></th>\n",
       "      <th>show_id</th>\n",
       "      <th>type</th>\n",
       "      <th>title</th>\n",
       "      <th>director</th>\n",
       "      <th>cast</th>\n",
       "      <th>country</th>\n",
       "      <th>date_added</th>\n",
       "      <th>release_year</th>\n",
       "      <th>rating</th>\n",
       "      <th>duration</th>\n",
       "      <th>listed_in</th>\n",
       "      <th>description</th>\n",
       "    </tr>\n",
       "  </thead>\n",
       "  <tbody>\n",
       "    <tr>\n",
       "      <th>0</th>\n",
       "      <td>s1</td>\n",
       "      <td>Movie</td>\n",
       "      <td>Dick Johnson Is Dead</td>\n",
       "      <td>Kirsten Johnson</td>\n",
       "      <td>NaN</td>\n",
       "      <td>United States</td>\n",
       "      <td>September 25, 2021</td>\n",
       "      <td>2020</td>\n",
       "      <td>PG-13</td>\n",
       "      <td>90 min</td>\n",
       "      <td>Documentaries</td>\n",
       "      <td>As her father nears the end of his life, filmm...</td>\n",
       "    </tr>\n",
       "    <tr>\n",
       "      <th>1</th>\n",
       "      <td>s2</td>\n",
       "      <td>TV Show</td>\n",
       "      <td>Blood &amp; Water</td>\n",
       "      <td>NaN</td>\n",
       "      <td>Ama Qamata, Khosi Ngema, Gail Mabalane, Thaban...</td>\n",
       "      <td>South Africa</td>\n",
       "      <td>September 24, 2021</td>\n",
       "      <td>2021</td>\n",
       "      <td>TV-MA</td>\n",
       "      <td>2 Seasons</td>\n",
       "      <td>International TV Shows, TV Dramas, TV Mysteries</td>\n",
       "      <td>After crossing paths at a party, a Cape Town t...</td>\n",
       "    </tr>\n",
       "    <tr>\n",
       "      <th>2</th>\n",
       "      <td>s3</td>\n",
       "      <td>TV Show</td>\n",
       "      <td>Ganglands</td>\n",
       "      <td>Julien Leclercq</td>\n",
       "      <td>Sami Bouajila, Tracy Gotoas, Samuel Jouy, Nabi...</td>\n",
       "      <td>NaN</td>\n",
       "      <td>September 24, 2021</td>\n",
       "      <td>2021</td>\n",
       "      <td>TV-MA</td>\n",
       "      <td>1 Season</td>\n",
       "      <td>Crime TV Shows, International TV Shows, TV Act...</td>\n",
       "      <td>To protect his family from a powerful drug lor...</td>\n",
       "    </tr>\n",
       "    <tr>\n",
       "      <th>3</th>\n",
       "      <td>s4</td>\n",
       "      <td>TV Show</td>\n",
       "      <td>Jailbirds New Orleans</td>\n",
       "      <td>NaN</td>\n",
       "      <td>NaN</td>\n",
       "      <td>NaN</td>\n",
       "      <td>September 24, 2021</td>\n",
       "      <td>2021</td>\n",
       "      <td>TV-MA</td>\n",
       "      <td>1 Season</td>\n",
       "      <td>Docuseries, Reality TV</td>\n",
       "      <td>Feuds, flirtations and toilet talk go down amo...</td>\n",
       "    </tr>\n",
       "    <tr>\n",
       "      <th>4</th>\n",
       "      <td>s5</td>\n",
       "      <td>TV Show</td>\n",
       "      <td>Kota Factory</td>\n",
       "      <td>NaN</td>\n",
       "      <td>Mayur More, Jitendra Kumar, Ranjan Raj, Alam K...</td>\n",
       "      <td>India</td>\n",
       "      <td>September 24, 2021</td>\n",
       "      <td>2021</td>\n",
       "      <td>TV-MA</td>\n",
       "      <td>2 Seasons</td>\n",
       "      <td>International TV Shows, Romantic TV Shows, TV ...</td>\n",
       "      <td>In a city of coaching centers known to train I...</td>\n",
       "    </tr>\n",
       "  </tbody>\n",
       "</table>\n",
       "</div>"
      ],
      "text/plain": [
       "  show_id     type                  title         director  \\\n",
       "0      s1    Movie   Dick Johnson Is Dead  Kirsten Johnson   \n",
       "1      s2  TV Show          Blood & Water              NaN   \n",
       "2      s3  TV Show              Ganglands  Julien Leclercq   \n",
       "3      s4  TV Show  Jailbirds New Orleans              NaN   \n",
       "4      s5  TV Show           Kota Factory              NaN   \n",
       "\n",
       "                                                cast        country  \\\n",
       "0                                                NaN  United States   \n",
       "1  Ama Qamata, Khosi Ngema, Gail Mabalane, Thaban...   South Africa   \n",
       "2  Sami Bouajila, Tracy Gotoas, Samuel Jouy, Nabi...            NaN   \n",
       "3                                                NaN            NaN   \n",
       "4  Mayur More, Jitendra Kumar, Ranjan Raj, Alam K...          India   \n",
       "\n",
       "           date_added  release_year rating   duration  \\\n",
       "0  September 25, 2021          2020  PG-13     90 min   \n",
       "1  September 24, 2021          2021  TV-MA  2 Seasons   \n",
       "2  September 24, 2021          2021  TV-MA   1 Season   \n",
       "3  September 24, 2021          2021  TV-MA   1 Season   \n",
       "4  September 24, 2021          2021  TV-MA  2 Seasons   \n",
       "\n",
       "                                           listed_in  \\\n",
       "0                                      Documentaries   \n",
       "1    International TV Shows, TV Dramas, TV Mysteries   \n",
       "2  Crime TV Shows, International TV Shows, TV Act...   \n",
       "3                             Docuseries, Reality TV   \n",
       "4  International TV Shows, Romantic TV Shows, TV ...   \n",
       "\n",
       "                                         description  \n",
       "0  As her father nears the end of his life, filmm...  \n",
       "1  After crossing paths at a party, a Cape Town t...  \n",
       "2  To protect his family from a powerful drug lor...  \n",
       "3  Feuds, flirtations and toilet talk go down amo...  \n",
       "4  In a city of coaching centers known to train I...  "
      ]
     },
     "execution_count": 4,
     "metadata": {},
     "output_type": "execute_result"
    }
   ],
   "source": [
    "data.head()"
   ]
  },
  {
   "cell_type": "code",
   "execution_count": 6,
   "id": "f73be4d5",
   "metadata": {},
   "outputs": [
    {
     "data": {
      "text/plain": [
       "show_id            0\n",
       "type               0\n",
       "title              0\n",
       "director        2634\n",
       "cast             825\n",
       "country          831\n",
       "date_added        10\n",
       "release_year       0\n",
       "rating             4\n",
       "duration           3\n",
       "listed_in          0\n",
       "description        0\n",
       "dtype: int64"
      ]
     },
     "execution_count": 6,
     "metadata": {},
     "output_type": "execute_result"
    }
   ],
   "source": [
    "data.isnull().sum()"
   ]
  },
  {
   "cell_type": "code",
   "execution_count": 5,
   "id": "3f950067",
   "metadata": {},
   "outputs": [],
   "source": [
    "import numpy as np\n",
    "from sklearn.feature_extraction.text import TfidfVectorizer\n",
    "from sklearn.metrics.pairwise import cosine_similarity"
   ]
  },
  {
   "cell_type": "code",
   "execution_count": 7,
   "id": "ea211406",
   "metadata": {},
   "outputs": [],
   "source": [
    "tfidf_vectorizer = TfidfVectorizer(stop_words='english')\n",
    "tfidf_matrix = tfidf_vectorizer.fit_transform(data['description'])\n",
    "\n",
    "# Calculate cosine similarity between all pairs of movies\n",
    "cosine_similarities = cosine_similarity(tfidf_matrix, tfidf_matrix)"
   ]
  },
  {
   "cell_type": "code",
   "execution_count": 20,
   "id": "7df74d86",
   "metadata": {},
   "outputs": [
    {
     "data": {
      "text/plain": [
       "(8807, 8807)"
      ]
     },
     "execution_count": 20,
     "metadata": {},
     "output_type": "execute_result"
    }
   ],
   "source": [
    "cosine_similarities.shape"
   ]
  },
  {
   "cell_type": "code",
   "execution_count": 18,
   "id": "530f43fb",
   "metadata": {},
   "outputs": [
    {
     "name": "stdout",
     "output_type": "stream",
     "text": [
      "Indices of movies with title 'Ganglands': [2]\n"
     ]
    }
   ],
   "source": [
    "title_to_find = 'Ganglands'\n",
    "movie_indices = data.index[data['title'] == title_to_find].tolist()\n",
    "\n",
    "# Print the indices\n",
    "print(f\"Indices of movies with title '{title_to_find}': {movie_indices}\")"
   ]
  },
  {
   "cell_type": "code",
   "execution_count": 35,
   "id": "73da5669",
   "metadata": {},
   "outputs": [],
   "source": [
    "def recommend_movie(title_to_find,num_rec):\n",
    "    movie_indices = data.index[data['title'] == title_to_find].tolist()[0]\n",
    "    print(movie_indices)\n",
    "    similarities = cosine_similarities[movie_indices]\n",
    "    sorted_indices = np.argsort(similarities)[::-1]\n",
    "    top_n_movies_indices = sorted_indices[:num_rec+1]\n",
    "    top_n_movie_titles = data.loc[top_n_movies_indices]['title'].tolist()\n",
    "    return top_n_movie_titles[1:]"
   ]
  },
  {
   "cell_type": "code",
   "execution_count": 42,
   "id": "a6c1ef40",
   "metadata": {},
   "outputs": [
    {
     "name": "stdout",
     "output_type": "stream",
     "text": [
      "8580\n"
     ]
    },
    {
     "data": {
      "text/plain": [
       "['Pandigai',\n",
       " 'Lusers',\n",
       " 'The Outsider',\n",
       " 'Angel Beats!',\n",
       " 'Inhuman Kiss',\n",
       " 'Gour Hari Dastaan: The Freedom File',\n",
       " 'Octonauts & the Great Barrier Reef',\n",
       " 'IO',\n",
       " 'Santa Clarita Diet',\n",
       " 'Dukhtar']"
      ]
     },
     "execution_count": 42,
     "metadata": {},
     "output_type": "execute_result"
    }
   ],
   "source": [
    "recommend_movie('Thor: Ragnarok',10)"
   ]
  },
  {
   "cell_type": "code",
   "execution_count": null,
   "id": "fe75b31c",
   "metadata": {},
   "outputs": [],
   "source": []
  },
  {
   "cell_type": "code",
   "execution_count": null,
   "id": "4b10e4e8",
   "metadata": {},
   "outputs": [],
   "source": []
  },
  {
   "cell_type": "code",
   "execution_count": 126,
   "id": "38c718d4",
   "metadata": {},
   "outputs": [],
   "source": [
    "data['description'] = data['description'].fillna('') + data['director'].fillna('') + data['listed_in'].fillna('') + data['type'].fillna('')"
   ]
  },
  {
   "cell_type": "code",
   "execution_count": 127,
   "id": "d2a007e5",
   "metadata": {},
   "outputs": [],
   "source": [
    "import gensim\n",
    "from gensim.models import Word2Vec\n",
    "from nltk.tokenize import word_tokenize\n",
    "import pandas as pd\n",
    "import nltk"
   ]
  },
  {
   "cell_type": "code",
   "execution_count": 128,
   "id": "eab64617",
   "metadata": {},
   "outputs": [],
   "source": [
    "tokenized_descriptions = [word_tokenize(desc.lower()) for desc in data['description']]\n",
    "\n",
    "# Train Word2Vec model\n",
    "embedding_size = 100  # You can adjust this based on your needs\n",
    "model = Word2Vec(tokenized_descriptions, vector_size=embedding_size, window=5, min_count=1, sg=0)\n",
    "\n",
    "# You can save the model for later use\n",
    "model.save(\"movie_descriptions_word2vec.model\")"
   ]
  },
  {
   "cell_type": "code",
   "execution_count": 129,
   "id": "69e1f52e",
   "metadata": {},
   "outputs": [
    {
     "data": {
      "text/plain": [
       "array([-0.5184265 ,  1.4336095 , -1.1279651 ,  0.88217217, -1.2734706 ,\n",
       "       -0.78887534, -0.6492172 ,  1.9589189 , -0.22012177, -3.234885  ,\n",
       "       -0.6573134 , -0.31242514, -2.2324436 ,  0.05188342,  1.0118003 ,\n",
       "        0.9074837 , -0.24146658,  0.51064444, -2.0512233 , -1.4412698 ,\n",
       "        0.47179124,  0.8397431 ,  0.2969836 ,  0.4541243 ,  0.625643  ,\n",
       "        1.3979965 , -1.7820641 , -0.7373029 , -0.7427942 ,  2.8741224 ,\n",
       "        0.2065601 , -1.0646011 ,  2.603339  , -2.4967897 ,  0.10420928,\n",
       "        2.4822884 ,  0.62088567,  2.4308279 ,  0.14125063,  1.7300371 ,\n",
       "        0.82063913, -3.754287  , -2.241115  ,  1.4041905 ,  1.1542271 ,\n",
       "       -2.9635465 , -0.24426544,  0.0709093 ,  1.9430627 ,  0.80214655,\n",
       "        1.1739455 , -2.1500995 , -0.11427487, -0.25127465, -2.6248567 ,\n",
       "        1.5922418 ,  1.3441266 ,  1.499648  , -0.6430934 ,  1.3876617 ,\n",
       "        0.5905826 ,  1.0687064 ,  1.8153685 , -0.7929102 , -0.13924253,\n",
       "        1.6574264 ,  0.9343099 ,  1.2155977 , -0.4150191 ,  1.1826063 ,\n",
       "        0.19636567, -1.0935277 , -0.04743399,  0.09356517,  1.6312791 ,\n",
       "        0.37776977, -1.9807703 ,  0.94442785,  0.19939026, -0.6204835 ,\n",
       "       -0.02583213, -0.883639  , -0.8620559 , -1.1972033 ,  0.06164009,\n",
       "        0.8097816 ,  0.6966729 ,  0.2618618 ,  1.2695332 ,  1.886175  ,\n",
       "        0.24356358,  0.31909695,  1.3420364 , -0.533573  ,  0.6255839 ,\n",
       "       -0.74140763,  1.7684685 , -0.07185961, -0.20391285, -0.6468024 ],\n",
       "      dtype=float32)"
      ]
     },
     "execution_count": 129,
     "metadata": {},
     "output_type": "execute_result"
    }
   ],
   "source": [
    "embedding_vector = model.wv['action']\n",
    "embedding_vector"
   ]
  },
  {
   "cell_type": "code",
   "execution_count": 130,
   "id": "f897dd7b",
   "metadata": {},
   "outputs": [],
   "source": [
    "def get_description_embedding(description):\n",
    "    words = word_tokenize(description.lower())\n",
    "    embedding = [model.wv[word] for word in words if word in model.wv]\n",
    "    return sum(embedding) / len(embedding) if embedding else [0] * embedding_size"
   ]
  },
  {
   "cell_type": "code",
   "execution_count": 131,
   "id": "3e02561c",
   "metadata": {},
   "outputs": [],
   "source": [
    "data['description_embedding'] = [get_description_embedding(desc) for desc in data['description']]"
   ]
  },
  {
   "cell_type": "code",
   "execution_count": 132,
   "id": "62795ef8",
   "metadata": {},
   "outputs": [],
   "source": [
    "embedding_matrix = data['description_embedding']"
   ]
  },
  {
   "cell_type": "code",
   "execution_count": 133,
   "id": "55d0e890",
   "metadata": {},
   "outputs": [],
   "source": [
    "description_embeddings = np.array(data['description_embedding'].to_list())\n",
    "\n",
    "# Calculate cosine similarity between movie descriptions\n",
    "cosine_similarities = cosine_similarity(description_embeddings, description_embeddings)\n",
    "\n",
    "def recommend_movie(title_to_find, num_rec):\n",
    "    movie_indices = data.index[data['title'] == title_to_find].tolist()[0]\n",
    "    print(movie_indices)\n",
    "    similarities = cosine_similarities[movie_indices]\n",
    "    sorted_indices = np.argsort(similarities)[::-1]\n",
    "    top_n_movies_indices = sorted_indices[:num_rec + 1]\n",
    "    top_n_movie_titles = data.loc[top_n_movies_indices]['title'].tolist()\n",
    "    \n",
    "    # Get similarity scores for the recommended movies\n",
    "    similarity_scores = [similarities[idx] for idx in top_n_movies_indices]\n",
    "    \n",
    "    # Create a list of tuples with movie titles and similarity scores\n",
    "    recommended_movies_with_scores = list(zip(top_n_movie_titles[1:], similarity_scores[1:]))\n",
    "    \n",
    "    return recommended_movies_with_scores"
   ]
  },
  {
   "cell_type": "code",
   "execution_count": 134,
   "id": "56837b31",
   "metadata": {},
   "outputs": [
    {
     "name": "stdout",
     "output_type": "stream",
     "text": [
      "8580\n",
      "Recommended Movies with Similarity Scores:\n",
      "Movie: The Matrix Reloaded, Similarity Score: 0.9980129599571228\n",
      "Movie: Money Talks, Similarity Score: 0.9978792071342468\n",
      "Movie: Spider-Man 3, Similarity Score: 0.9978455901145935\n",
      "Movie: The Lord of the Rings: The Two Towers, Similarity Score: 0.9977781772613525\n",
      "Movie: The Book of Eli, Similarity Score: 0.9975395798683167\n",
      "Movie: In the Shadow of the Moon, Similarity Score: 0.997494101524353\n",
      "Movie: Red Dawn, Similarity Score: 0.9973134398460388\n",
      "Movie: Black Panther, Similarity Score: 0.9971238374710083\n",
      "Movie: Seventh Son, Similarity Score: 0.9968461990356445\n",
      "Movie: Ant-Man and the Wasp, Similarity Score: 0.9968146681785583\n"
     ]
    }
   ],
   "source": [
    "recommended_movies = recommend_movie('Thor: Ragnarok',10)\n",
    "print(\"Recommended Movies with Similarity Scores:\")\n",
    "for movie, score in recommended_movies:\n",
    "    print(f\"Movie: {movie}, Similarity Score: {score}\")"
   ]
  },
  {
   "cell_type": "code",
   "execution_count": 135,
   "id": "721dc987",
   "metadata": {},
   "outputs": [
    {
     "data": {
      "text/plain": [
       "(8807, 13)"
      ]
     },
     "execution_count": 135,
     "metadata": {},
     "output_type": "execute_result"
    }
   ],
   "source": [
    "data.shape"
   ]
  },
  {
   "cell_type": "code",
   "execution_count": null,
   "id": "a3f90b70",
   "metadata": {},
   "outputs": [],
   "source": []
  },
  {
   "cell_type": "code",
   "execution_count": null,
   "id": "2f42dd8c",
   "metadata": {},
   "outputs": [],
   "source": []
  }
 ],
 "metadata": {
  "kernelspec": {
   "display_name": "Python 3 (ipykernel)",
   "language": "python",
   "name": "python3"
  },
  "language_info": {
   "codemirror_mode": {
    "name": "ipython",
    "version": 3
   },
   "file_extension": ".py",
   "mimetype": "text/x-python",
   "name": "python",
   "nbconvert_exporter": "python",
   "pygments_lexer": "ipython3",
   "version": "3.11.3"
  }
 },
 "nbformat": 4,
 "nbformat_minor": 5
}
